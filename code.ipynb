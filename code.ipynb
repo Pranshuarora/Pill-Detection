{
 "cells": [
  {
   "cell_type": "code",
   "execution_count": 1,
   "id": "de3d411c",
   "metadata": {},
   "outputs": [],
   "source": [
    "import csv\n",
    "import random\n",
    "import math\n",
    "import operator\n",
    "import cv2\n",
    "import matplotlib.pyplot as plt\n",
    "import knn_classifier\n",
    "import numpy as np"
   ]
  },
  {
   "cell_type": "code",
   "execution_count": 13,
   "id": "d6711af9",
   "metadata": {},
   "outputs": [],
   "source": [
    "def rgb2hsv(r, g, b):\n",
    "    # from RGB to HSV color space\n",
    "    # R, G, B values are [0, 255]. H value is [0, 360]. S, V values are [0, 1]\n",
    "\n",
    "    r = r / 255.0\n",
    "    g = g / 255.0\n",
    "    b = b / 255.0\n",
    "    mx = max(r, g, b)\n",
    "    mn = min(r, g, b)\n",
    "    df = mx-mn\n",
    "    if mx == mn:\n",
    "        h = 0\n",
    "    elif mx == r:\n",
    "        h = (60 * ((g-b)/df) + 360) % 360\n",
    "    elif mx == g:\n",
    "        h = (60 * ((b-r)/df) + 120) % 360\n",
    "    elif mx == b:\n",
    "        h = (60 * ((r-g)/df) + 240) % 360\n",
    "    if mx == 0:\n",
    "        s = 0\n",
    "    else:\n",
    "        s = df/mx\n",
    "    v = mx\n",
    "    return h, s, v\n",
    "\n",
    "def detectShape(path):\n",
    "    # for detecting the contour of the pill and its length, and the pill's predicted color\n",
    "\n",
    "    img= cv2.imread(path,1)\n",
    "    imgheight= img.shape[0]\n",
    "    imgwidth = img.shape[1]\n",
    "    img = cv2.resize(img, (int(imgwidth * (480 / imgheight)), 480))\n",
    "    img = cv2.GaussianBlur(img, (3,3), 0) # Gaussian blurring to remove noise in the image \n",
    "    kernel = np.array([[-1,-1,-1], [-1,9,-1], [-1,-1,-1]])\n",
    "    # img = cv2.filter2D(img, -1, kernel)\n",
    "\n",
    "    drugShape = 'UNDEFINED' # initializing the drug shape\n",
    "    edges = cv2.Canny(img,100,200) # detecting the edges to identify the pill\n",
    "    contours, hierarchy = cv2.findContours(edges,cv2.RETR_TREE,cv2.CHAIN_APPROX_SIMPLE) # finding the contours in the image\n",
    "\n",
    "    areas = np.array([cv2.contourArea(c) for c in contours]) # array of the areas of all contours\n",
    "    contours = np.array(contours) # array of all contours in the image \n",
    "    arr1inds = areas.argsort() # sorting contours\n",
    "    contours = contours[arr1inds[::-1]] # descendingly, as the pill will be tha largest contour\n",
    "\n",
    "    approx = cv2.approxPolyDP(contours[0], 0.01*cv2.arcLength(contours[0],True), True)\t\n",
    "    x,y,w,h = cv2.boundingRect(contours[0]) # offsets - with this you get 'mask'\n",
    "\n",
    "    cv2.drawContours(img, [contours[0]], 0,(255,0,0), 2)\n",
    "\n",
    "    # to get the average of the colors inside the largest contour \"inside the pill\"\n",
    "    newIM = img[y:y+h,x:x+w]\n",
    "    yn = newIM.shape[0]\n",
    "    xn = newIM.shape[1]\n",
    "\n",
    "    y=y + int(yn * 20/100)\n",
    "    h=h - int(yn * 40/100)\n",
    "    x=x + int(xn * 20/100) \n",
    "    w=w - int(xn * 30/100)\n",
    "\n",
    "    newImage = img[y:y+h,x:x+w] # inside the contour\n",
    "    colors = np.array(cv2.mean(newImage)).astype(np.uint8) # average of the colors inside newImage\n",
    "    prediction = 'n.a.'\n",
    "\n",
    "    # increase saturation before white detection for light colors elimination\n",
    "    hsvImage = cv2.cvtColor(newImage, cv2.COLOR_BGR2HSV)\n",
    "    hsvImage[:,:,1]=hsvImage[:,:,1] * 2.5 # increasing the saturation of the color\n",
    "    backImage = cv2.cvtColor(hsvImage, cv2.COLOR_HSV2BGR)\n",
    "\n",
    "    # using BGR\n",
    "    backColors = np.array(cv2.mean(backImage)).astype(np.uint8) # average of colors after increasing the saturation\n",
    "    # the prediction of the color classifier RGB\n",
    "    prediction = knn_classifier.main('training.data', np.array([backColors[2], backColors[1], backColors[0]]))\n",
    "    if prediction =='white': # for white only not the light colors\n",
    "        #RED GREEN BLUE\n",
    "        if backColors[2] >= 180 and backColors[1] >= 150 and backColors[0] <= 90 : # it will not be white using trial and error\n",
    "            prediction = 'other'\t\n",
    "        else:\n",
    "            backColors = np.array(cv2.mean(newImage)).astype(np.uint8) # average of colors after increasing the saturation\n",
    "            # the prediction of the color classifier RGB\n",
    "            prediction = knn_classifier.main('training.data', np.array([backColors[2], backColors[1], backColors[0]]))\n",
    "            \n",
    "            if backColors[2] >= 180 and backColors[1] >= 150 and backColors[0] <= 90 : # it will not be white using trial and error\n",
    "                prediction = 'other'\n",
    "\n",
    "    if prediction == 'other':\n",
    "        # using HSV\n",
    "        colors = rgb2hsv(colors[2], colors[1], colors[0])\n",
    "        # the prediction of the color classifier HSV\n",
    "        prediction = knn_classifier.main('newData.data', np.array([colors[0], colors[1], colors[2]]))\n",
    "    return len(approx), prediction, contours[0]\n",
    "\n",
    "def detectDrug(path):\n",
    "    # for detecting pill's shape and color\n",
    "\n",
    "    lenn, color, contour = detectShape(path)\n",
    "    # \"lenn\" to detect the shape whether it is ellipse, hexagon, pentagon, square, rectangle or circle according to the length of the contour\n",
    "#     print(lenn,color)\n",
    "    drugShape= 'UNDEFINED' # initialization\n",
    "    drugName= 'UNDEFINED'\n",
    "    # print(lenn)\n",
    "\n",
    "    # using trial and error\n",
    "    if 5 < lenn < 12:\n",
    "        drugShape = 'Ellipse'\n",
    "    elif lenn == 6:\n",
    "        drugShape = 'Hexagon'\n",
    "    elif lenn == 5:\n",
    "        drugShape = 'Pentagon'\n",
    "    elif lenn == 4:\n",
    "        x,y,w,h = cv2.boundingRect(contour)\n",
    "        ar = w / float(h)\n",
    "        drugShape = \"square\" if ar >= 0.95 and ar <= 1.05 else \"rectangle\"\n",
    "    elif lenn >= 12:\n",
    "        drugShape = 'Circle'\n",
    "\n",
    "    return drugShape, color\n",
    "\n",
    "def getName(path):\n",
    "    # to get the name of the pill using its shape and color\n",
    "\n",
    "    Name = 'UNDEFINED'\n",
    "    dictt = {} # dictionary of (shape, color) key \n",
    "    #Milga\n",
    "    dictt[(\"Circle\", \"red\")] = \"Milga\"\n",
    "    #Panadol\n",
    "    dictt[(\"Ellipse\", \"white\")] = \"Panadol\"\n",
    "    #Brufen\n",
    "    dictt[(\"Circle\", \"pink\")] = \"Brufen\"\n",
    "    #Ketofan\n",
    "    dictt[(\"Ellipse\", \"yellow\")] = \"Ketofan\"\n",
    "    #Paracetamol\n",
    "    dictt[(\"Circle\", \"white\")] = \"Paracetamol\"\n",
    "    #Comtrex\n",
    "    dictt[(\"Ellipse\", \"red\")] = \"Comtrex\"\n",
    "    #Alphintern\n",
    "    dictt[(\"Circle\", \"blue\")] = \"Alphintern\"\n",
    "    #Cataflam\n",
    "    dictt[(\"Circle\", \"orange\")] = \"Cataflam\"\n",
    "\n",
    "    drugShape, color = detectDrug(path)\n",
    "    Name = dictt[(drugShape, color)]\n",
    "    return Name\n",
    "\n",
    "\n",
    "try:\n",
    "    print('Expected: ', 'test','Result: ',getName('download.png'))\n",
    "except:\n",
    "    pass\n",
    "#testing\n",
    "# print('Expected: ', 'Milga','Result: ',getName('images/milga2.jpg'))\n",
    "# print('Expected: ', 'Milga','Result: ',getName('images/milga3.jpg'))"
   ]
  },
  {
   "cell_type": "code",
   "execution_count": 3,
   "id": "61353254",
   "metadata": {},
   "outputs": [
    {
     "name": "stdout",
     "output_type": "stream",
     "text": [
      "13 blue\n",
      "('Circle', 'blue')\n"
     ]
    },
    {
     "data": {
      "image/png": "[encoded data removed]",
      "text/plain": [
       "<Figure size 432x288 with 1 Axes>"
      ]
     },
     "metadata": {
      "needs_background": "light"
     },
     "output_type": "display_data"
    }
   ],
   "source": [
    "path = \"images/alpha1.jpg\"\n",
    "print(detectDrug(path))\n",
    "img = plt.imread(path)\n",
    "plt.imshow(img)\n",
    "plt.show()"
   ]
  },
  {
   "cell_type": "code",
   "execution_count": 17,
   "id": "9b088e70",
   "metadata": {},
   "outputs": [
    {
     "name": "stdout",
     "output_type": "stream",
     "text": [
      "('Ellipse', 'white')\n"
     ]
    },
    {
     "data": {
      "image/png": "[encoded data removed]",
      "text/plain": [
       "<Figure size 432x288 with 1 Axes>"
      ]
     },
     "metadata": {
      "needs_background": "light"
     },
     "output_type": "display_data"
    }
   ],
   "source": [
    "path = \"images/kito2.jpg\"\n",
    "print(detectDrug(path))\n",
    "img = plt.imread(path)\n",
    "plt.imshow(img)\n",
    "plt.show()"
   ]
  },
  {
   "cell_type": "code",
   "execution_count": 9,
   "id": "95e4e19b",
   "metadata": {},
   "outputs": [],
   "source": [
    "import warnings\n",
    "warnings.filterwarnings('ignore')"
   ]
  },
  {
   "cell_type": "code",
   "execution_count": 16,
   "id": "42818020",
   "metadata": {},
   "outputs": [
    {
     "data": {
      "text/plain": [
       "'Panadol'"
      ]
     },
     "execution_count": 16,
     "metadata": {},
     "output_type": "execute_result"
    }
   ],
   "source": [
    "getName(path)"
   ]
  },
  {
   "cell_type": "code",
   "execution_count": 14,
   "id": "53896823",
   "metadata": {},
   "outputs": [],
   "source": [
    "n = getName(path)"
   ]
  },
  {
   "cell_type": "code",
   "execution_count": 15,
   "id": "1b59dee7",
   "metadata": {},
   "outputs": [
    {
     "data": {
      "text/plain": [
       "'Panadol'"
      ]
     },
     "execution_count": 15,
     "metadata": {},
     "output_type": "execute_result"
    }
   ],
   "source": [
    "n"
   ]
  },
  {
   "cell_type": "code",
   "execution_count": 19,
   "id": "1a62836a",
   "metadata": {},
   "outputs": [],
   "source": [
    "a,b =detectDrug(path)"
   ]
  },
  {
   "cell_type": "code",
   "execution_count": 20,
   "id": "89c29d3c",
   "metadata": {},
   "outputs": [
    {
     "data": {
      "text/plain": [
       "'Ellipse'"
      ]
     },
     "execution_count": 20,
     "metadata": {},
     "output_type": "execute_result"
    }
   ],
   "source": [
    "a"
   ]
  },
  {
   "cell_type": "code",
   "execution_count": null,
   "id": "7f1a2a84",
   "metadata": {},
   "outputs": [],
   "source": []
  }
 ],
 "metadata": {
  "kernelspec": {
   "display_name": "Python 3",
   "language": "python",
   "name": "python3"
  },
  "language_info": {
   "codemirror_mode": {
    "name": "ipython",
    "version": 3
   },
   "file_extension": ".py",
   "mimetype": "text/x-python",
   "name": "python",
   "nbconvert_exporter": "python",
   "pygments_lexer": "ipython3",
   "version": "3.6.10"
  }
 },
 "nbformat": 4,
 "nbformat_minor": 5
}
